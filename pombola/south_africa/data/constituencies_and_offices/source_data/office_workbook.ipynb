{
 "cells": [
  {
   "cell_type": "code",
   "execution_count": 6,
   "metadata": {},
   "outputs": [],
   "source": [
    "import re\n",
    "import json\n",
    "import csv"
   ]
  },
  {
   "cell_type": "code",
   "execution_count": 7,
   "metadata": {},
   "outputs": [],
   "source": [
    "csvfile = open('2022/eastern-cape.csv', 'r')\n",
    "jsonfile = open('2022/eastern-cape.json', 'w')"
   ]
  },
  {
   "cell_type": "code",
   "execution_count": 8,
   "metadata": {},
   "outputs": [],
   "source": [
    "offices = {\n",
    "    \"offices\": [],\n",
    "    \"start_date\": \"2022-08-01\", \n",
    "    \"end_date\": \"2022-07-31\"      \n",
    "}"
   ]
  },
  {
   "cell_type": "code",
   "execution_count": 9,
   "metadata": {},
   "outputs": [],
   "source": [
    "reader = csv.DictReader(csvfile)\n",
    "for row in reader:\n",
    "    office = {\n",
    "        \"Title\": row['Political Party'].strip() + \" Constituency Office: \" + row['Office name'].strip(), \n",
    "        \"Source URL\": \"\",\n",
    "        \"Source Note\": \"\",\n",
    "        \"Party\": row['Political Party'].strip(),\t\n",
    "        \"Type\": \"office\",\n",
    "        \"Province\": \"Eastern Cape\",\n",
    "        \"Physical Address\": row['Physical Address'].strip(),\n",
    "        \"E-mail\": row['Email'].strip(),\n",
    "        \"Tel\": row['Contact number'].strip(),\n",
    "        \"identifiers\": {\n",
    "            \"constituency-office/\" + row['Political Party'].strip() + \"/\": \"\"\n",
    "        },\n",
    "        \"People\": [\n",
    "            {\n",
    "                \"Name\": row['Contact person'].strip(),\n",
    "                \"Tel\": row['Contact number'].strip(),\n",
    "                \"Email\": row['Email'].strip(),\n",
    "                \"Position\": row['Contact role'].strip(),\n",
    "            }\n",
    "        ]\n",
    "    } \n",
    "    offices['offices'].append(office) "
   ]
  },
  {
   "cell_type": "code",
   "execution_count": 10,
   "metadata": {},
   "outputs": [
    {
     "data": {
      "text/plain": [
       "1"
      ]
     },
     "execution_count": 10,
     "metadata": {},
     "output_type": "execute_result"
    }
   ],
   "source": [
    "json.dump(offices, jsonfile, indent=4)\n",
    "jsonfile.write('\\n')"
   ]
  }
 ],
 "metadata": {
  "kernelspec": {
   "display_name": "Python 3.10.5 ('pyenv': venv)",
   "language": "python",
   "name": "python3"
  },
  "language_info": {
   "codemirror_mode": {
    "name": "ipython",
    "version": 3
   },
   "file_extension": ".py",
   "mimetype": "text/x-python",
   "name": "python",
   "nbconvert_exporter": "python",
   "pygments_lexer": "ipython3",
   "version": "3.10.5"
  },
  "orig_nbformat": 4,
  "vscode": {
   "interpreter": {
    "hash": "bb49d4cbee0490b9d4257477710cb692975d8b1f2e90b3d9c3d0c2ccbebbb491"
   }
  }
 },
 "nbformat": 4,
 "nbformat_minor": 2
}
