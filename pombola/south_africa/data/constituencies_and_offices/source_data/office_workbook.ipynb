{
 "cells": [
  {
   "cell_type": "code",
   "execution_count": 1,
   "metadata": {},
   "outputs": [],
   "source": [
    "import re\n",
    "import json\n",
    "import csv"
   ]
  },
  {
   "cell_type": "code",
   "execution_count": 2,
   "metadata": {},
   "outputs": [],
   "source": [
    "file = 'north-west-eff'\n",
    "province = 'North West'\n",
    "\n",
    "csvfile = open('2022/csv/' + file + '.csv', 'r')\n",
    "jsonfile = open('2022/' + file + '.json', 'w')\n"
   ]
  },
  {
   "cell_type": "code",
   "execution_count": 3,
   "metadata": {},
   "outputs": [],
   "source": [
    "offices = {\n",
    "    \"offices\": [],\n",
    "    \"start_date\": \"2022-08-01\", \n",
    "    \"end_date\": \"2022-07-31\"      \n",
    "}"
   ]
  },
  {
   "cell_type": "code",
   "execution_count": 4,
   "metadata": {},
   "outputs": [],
   "source": [
    "reader = csv.DictReader(csvfile)\n",
    "for row in reader:\n",
    "    office = {\n",
    "        \"Title\": row['Political Party'].strip() + \" Constituency Office: \" + row['Office Name'].strip(), \n",
    "        \"Source URL\": \"\",\n",
    "        \"Source Note\": \"\",\n",
    "        \"Party\": row['Political Party'].strip(),\t\n",
    "        \"Type\": \"office\",\n",
    "        \"Province\": province,\n",
    "        \"Physical Address\": row['Physical Address'].strip(),\n",
    "        \"E-mail\": row['Email'].strip(),\n",
    "        \"Tel\": row['Contact Number'].strip(),\n",
    "        \"identifiers\": {\n",
    "            \"constituency-office/\" + row['Political Party'].strip() + \"/\": \"\"\n",
    "        },\n",
    "        \"People\": [\n",
    "            {\n",
    "                \"Name\": row['Contact Person'].strip(),\n",
    "                \"Tel\": row['Contact Number'].strip(),\n",
    "                \"Email\": row['Email'].strip(),\n",
    "                \"Position\": row['Contact Role'].strip(),\n",
    "            }\n",
    "        ]\n",
    "    } \n",
    "    offices['offices'].append(office) "
   ]
  },
  {
   "cell_type": "code",
   "execution_count": 5,
   "metadata": {},
   "outputs": [
    {
     "data": {
      "text/plain": [
       "1"
      ]
     },
     "execution_count": 5,
     "metadata": {},
     "output_type": "execute_result"
    }
   ],
   "source": [
    "json.dump(offices, jsonfile, indent=4)\n",
    "jsonfile.write('\\n')"
   ]
  }
 ],
 "metadata": {
  "kernelspec": {
   "display_name": "Python 3.10.5 ('pyenv': venv)",
   "language": "python",
   "name": "python3"
  },
  "language_info": {
   "codemirror_mode": {
    "name": "ipython",
    "version": 3
   },
   "file_extension": ".py",
   "mimetype": "text/x-python",
   "name": "python",
   "nbconvert_exporter": "python",
   "pygments_lexer": "ipython3",
   "version": "3.10.5"
  },
  "orig_nbformat": 4,
  "vscode": {
   "interpreter": {
    "hash": "bb49d4cbee0490b9d4257477710cb692975d8b1f2e90b3d9c3d0c2ccbebbb491"
   }
  }
 },
 "nbformat": 4,
 "nbformat_minor": 2
}
